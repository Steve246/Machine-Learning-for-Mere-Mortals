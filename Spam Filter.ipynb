{
  "nbformat": 4,
  "nbformat_minor": 0,
  "metadata": {
    "colab": {
      "name": "Latihan.ipynb",
      "provenance": [],
      "collapsed_sections": [],
      "authorship_tag": "ABX9TyPFF3dR/THERnemArWvBO+o",
      "include_colab_link": true
    },
    "kernelspec": {
      "name": "python3",
      "display_name": "Python 3"
    },
    "language_info": {
      "name": "python"
    }
  },
  "cells": [
    {
      "cell_type": "markdown",
      "metadata": {
        "id": "view-in-github",
        "colab_type": "text"
      },
      "source": [
        "<a href=\"https://colab.research.google.com/github/Steve246/Machine-Learning-for-Mere-Mortals/blob/main/Spam%20Filter.ipynb\" target=\"_parent\"><img src=\"https://colab.research.google.com/assets/colab-badge.svg\" alt=\"Open In Colab\"/></a>"
      ]
    },
    {
      "cell_type": "code",
      "metadata": {
        "id": "SKB13wha9UrN",
        "colab": {
          "base_uri": "https://localhost:8080/"
        },
        "outputId": "89ad8108-03cc-42e2-be71-1e8c2721edc8"
      },
      "source": [
        "import numpy as np #import numpy\n",
        "#%tensorflow_version 1.8\n",
        "\n",
        "import tensorflow.compat.v1 as tf\n",
        "tf.disable_v2_behavior() #import tensorflow"
      ],
      "execution_count": 1,
      "outputs": [
        {
          "output_type": "stream",
          "text": [
            "WARNING:tensorflow:From /usr/local/lib/python3.7/dist-packages/tensorflow/python/compat/v2_compat.py:96: disable_resource_variables (from tensorflow.python.ops.variable_scope) is deprecated and will be removed in a future version.\n",
            "Instructions for updating:\n",
            "non-resource variables are not supported in the long term\n"
          ],
          "name": "stdout"
        }
      ]
    },
    {
      "cell_type": "code",
      "metadata": {
        "id": "VGspWzeUzAHQ"
      },
      "source": [
        "def get_inputs(data_file):\n",
        "\n",
        "  data_set = tf.contrib.learn.datasets.base.load_csv_with_header (\n",
        "      filename = data_file,\n",
        "      target_dtype = np.int64, #what feature we target, we target number (integer)\n",
        "      features_dtype = np.float32 #feature in data type is float\n",
        "  ) #return feature, and target for each data point\n",
        "\n",
        "  feature_sets = tf.constant(data_set.data) #feature in data\n",
        "  targets = tf.constant(data_set.target) #target spesific feature we want to analuze\n",
        "\n",
        "\n",
        "  return feature_sets, targets \n",
        "\n"
      ],
      "execution_count": 2,
      "outputs": []
    },
    {
      "cell_type": "code",
      "metadata": {
        "id": "MGF9daNfOAf1"
      },
      "source": [
        "def get_training_inputs():\n",
        "  return get_inputs(\"/content/OnlineNewsPopularityClassification.csv\") #inpu data train\n",
        "\n",
        "def get_test_inputs():\n",
        "  return get_inputs(\"/content/OnlineNewsPopularityClassification_newsamples.csv\") #input daya test\n",
        "\n",
        "def get_new_inputs():\n",
        "  return get_inputs(\"/content/OnlineNewsPopularityClassification_test.csv\") #input data tanpa test dan train\n",
        "\n"
      ],
      "execution_count": 3,
      "outputs": []
    },
    {
      "cell_type": "code",
      "metadata": {
        "colab": {
          "base_uri": "https://localhost:8080/",
          "height": 292
        },
        "id": "a0nyUnBc_ugs",
        "outputId": "7afad204-b537-4293-9680-ef1da32bf57f"
      },
      "source": [
        "input_data, input_targets = get_inputs(\"/content/OnlineNewsPopularityClassification.csv\")"
      ],
      "execution_count": 4,
      "outputs": [
        {
          "output_type": "error",
          "ename": "AttributeError",
          "evalue": "ignored",
          "traceback": [
            "\u001b[0;31m---------------------------------------------------------------------------\u001b[0m",
            "\u001b[0;31mAttributeError\u001b[0m                            Traceback (most recent call last)",
            "\u001b[0;32m<ipython-input-4-6dcd42915de6>\u001b[0m in \u001b[0;36m<module>\u001b[0;34m()\u001b[0m\n\u001b[0;32m----> 1\u001b[0;31m \u001b[0minput_data\u001b[0m\u001b[0;34m,\u001b[0m \u001b[0minput_targets\u001b[0m \u001b[0;34m=\u001b[0m \u001b[0mget_inputs\u001b[0m\u001b[0;34m(\u001b[0m\u001b[0;34m\"/content/OnlineNewsPopularityClassification.csv\"\u001b[0m\u001b[0;34m)\u001b[0m\u001b[0;34m\u001b[0m\u001b[0;34m\u001b[0m\u001b[0m\n\u001b[0m",
            "\u001b[0;32m<ipython-input-2-22ba4ea8836b>\u001b[0m in \u001b[0;36mget_inputs\u001b[0;34m(data_file)\u001b[0m\n\u001b[1;32m      1\u001b[0m \u001b[0;32mdef\u001b[0m \u001b[0mget_inputs\u001b[0m\u001b[0;34m(\u001b[0m\u001b[0mdata_file\u001b[0m\u001b[0;34m)\u001b[0m\u001b[0;34m:\u001b[0m\u001b[0;34m\u001b[0m\u001b[0;34m\u001b[0m\u001b[0m\n\u001b[1;32m      2\u001b[0m \u001b[0;34m\u001b[0m\u001b[0m\n\u001b[0;32m----> 3\u001b[0;31m   data_set = tf.contrib.learn.datasets.base.load_csv_with_header (\n\u001b[0m\u001b[1;32m      4\u001b[0m       \u001b[0mfilename\u001b[0m \u001b[0;34m=\u001b[0m \u001b[0mdata_file\u001b[0m\u001b[0;34m,\u001b[0m\u001b[0;34m\u001b[0m\u001b[0;34m\u001b[0m\u001b[0m\n\u001b[1;32m      5\u001b[0m       \u001b[0mtarget_dtype\u001b[0m \u001b[0;34m=\u001b[0m \u001b[0mnp\u001b[0m\u001b[0;34m.\u001b[0m\u001b[0mint64\u001b[0m\u001b[0;34m,\u001b[0m \u001b[0;31m#what feature we target, we target number (integer)\u001b[0m\u001b[0;34m\u001b[0m\u001b[0;34m\u001b[0m\u001b[0m\n",
            "\u001b[0;31mAttributeError\u001b[0m: module 'tensorflow.compat.v1' has no attribute 'contrib'"
          ]
        }
      ]
    },
    {
      "cell_type": "code",
      "metadata": {
        "id": "KO61_GO4GZdg"
      },
      "source": [
        "print(input_data)\n",
        "print(\"---------\")\n",
        "print(input_targets)"
      ],
      "execution_count": null,
      "outputs": []
    },
    {
      "cell_type": "code",
      "metadata": {
        "id": "3hYpkNNxQ5DL"
      },
      "source": [
        "feature_columns = [tf.contrib.layers.real.valued_column(\"\")]\n",
        "classifier = tf.contrib.learn.LinearClassifier(feature_columns == feature_columns)\n",
        "\n",
        "classifier.fit(input_fn = get_training_inputs, steps = 2000)\n",
        "\n",
        "accuracy_score = classifier.evaluate)input_fn = get_test_inputs, step = 1)[\"accuracu\"]\n",
        "\n",
        "print(\"Accuracy against the test data: {a:f\"}.format(a = accuracy_score))"
      ],
      "execution_count": null,
      "outputs": []
    }
  ]
}