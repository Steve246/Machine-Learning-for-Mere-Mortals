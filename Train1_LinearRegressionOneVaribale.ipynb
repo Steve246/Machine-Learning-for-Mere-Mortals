{
  "nbformat": 4,
  "nbformat_minor": 0,
  "metadata": {
    "colab": {
      "name": "Latihan.ipynb",
      "provenance": [],
      "collapsed_sections": [],
      "authorship_tag": "ABX9TyPyqNTIv5YgXwMHAi+NE+Lf",
      "include_colab_link": true
    },
    "kernelspec": {
      "name": "python3",
      "display_name": "Python 3"
    },
    "language_info": {
      "name": "python"
    }
  },
  "cells": [
    {
      "cell_type": "markdown",
      "metadata": {
        "id": "view-in-github",
        "colab_type": "text"
      },
      "source": [
        "<a href=\"https://colab.research.google.com/github/Steve246/CV-Website/blob/master/Train1_LinearRegressionOneVaribale.ipynb\" target=\"_parent\"><img src=\"https://colab.research.google.com/assets/colab-badge.svg\" alt=\"Open In Colab\"/></a>"
      ]
    },
    {
      "cell_type": "code",
      "metadata": {
        "id": "XfgrPhdb9I8p"
      },
      "source": [
        "import matplotlib.pyplot as plt #import matplotlib"
      ],
      "execution_count": null,
      "outputs": []
    },
    {
      "cell_type": "code",
      "metadata": {
        "id": "SKB13wha9UrN"
      },
      "source": [
        "import numpy as np #import numpy"
      ],
      "execution_count": null,
      "outputs": []
    },
    {
      "cell_type": "code",
      "metadata": {
        "id": "RwKWxMdbG6vS"
      },
      "source": [
        "import tensorflow.compat.v1 as tf\n",
        "tf.disable_v2_behavior() #ubah tensorflow 2.0 jad 1.0 version"
      ],
      "execution_count": null,
      "outputs": []
    },
    {
      "cell_type": "code",
      "metadata": {
        "id": "c1p4cBXr9V8z"
      },
      "source": [
        "COLUMNS = [\"url\", \"title_length\", \"article_length\", \"keywords\", \"shares\"] #yang mau kita ambil sebagai variabel dari data yang ingin dibaca"
      ],
      "execution_count": null,
      "outputs": []
    },
    {
      "cell_type": "markdown",
      "metadata": {
        "id": "5JaW_nlXGF3F"
      },
      "source": [
        ""
      ]
    },
    {
      "cell_type": "code",
      "metadata": {
        "id": "6haFLiFM9XJD"
      },
      "source": [
        "data = np.genfromtxt('OnlineNewsPopularitySample.csv', delimiter=',', names=COLUMNS) #buat baca data"
      ],
      "execution_count": null,
      "outputs": []
    },
    {
      "cell_type": "code",
      "metadata": {
        "id": "T-AjUjZxG-b_"
      },
      "source": [
        "initial_b = 1.0"
      ],
      "execution_count": null,
      "outputs": []
    },
    {
      "cell_type": "code",
      "metadata": {
        "id": "5VsTs5YqHBcl"
      },
      "source": [
        "initial_m = 1.0"
      ],
      "execution_count": null,
      "outputs": []
    },
    {
      "cell_type": "code",
      "metadata": {
        "id": "IxT8mIoIHC8z"
      },
      "source": [
        "w = tf.Variable([initial_b, initial_m], name =\"w\") #ubah jadi variable yang bisa dibaca tensorflow"
      ],
      "execution_count": null,
      "outputs": []
    },
    {
      "cell_type": "code",
      "metadata": {
        "colab": {
          "base_uri": "https://localhost:8080/"
        },
        "id": "tHJiL1dFHgzS",
        "outputId": "ad9436b3-0acd-47cd-a9e4-682a9d89d245"
      },
      "source": [
        "print(w[0])"
      ],
      "execution_count": null,
      "outputs": [
        {
          "output_type": "stream",
          "text": [
            "Tensor(\"strided_slice_12:0\", shape=(), dtype=float32)\n"
          ],
          "name": "stdout"
        }
      ]
    },
    {
      "cell_type": "code",
      "metadata": {
        "colab": {
          "base_uri": "https://localhost:8080/"
        },
        "id": "o8SxooXZHi5N",
        "outputId": "578ba227-d19d-4d95-c9d0-07710928c5df"
      },
      "source": [
        "print(w[1])"
      ],
      "execution_count": null,
      "outputs": [
        {
          "output_type": "stream",
          "text": [
            "Tensor(\"strided_slice_13:0\", shape=(), dtype=float32)\n"
          ],
          "name": "stdout"
        }
      ]
    },
    {
      "cell_type": "code",
      "metadata": {
        "id": "OYwvudmKHmWD"
      },
      "source": [
        "article_length = tf.placeholder(\"float\")\n",
        "shares = tf.placeholder(\"float\") #assign variable"
      ],
      "execution_count": null,
      "outputs": []
    },
    {
      "cell_type": "code",
      "metadata": {
        "id": "QEp_1LAQJKmg"
      },
      "source": [
        "predicted_shares = tf.add(tf.multiply(w[1], article_length), w[0]) # [initial_m(1) x article_length ] + 1 --> y = m theta1 + theta0"
      ],
      "execution_count": null,
      "outputs": []
    },
    {
      "cell_type": "code",
      "metadata": {
        "id": "VxVXWHy8Kzso"
      },
      "source": [
        "error = tf.multiply(tf.square(predicted_shares - shares), .00001) #cost function, dia masukin linear regression dikurangin actual value"
      ],
      "execution_count": null,
      "outputs": []
    },
    {
      "cell_type": "code",
      "metadata": {
        "id": "ptcN1uvcK9BJ"
      },
      "source": [
        "step_size = .0015"
      ],
      "execution_count": null,
      "outputs": []
    },
    {
      "cell_type": "code",
      "metadata": {
        "id": "Ih6Tt05lK-Wy"
      },
      "source": [
        "optimizer = tf.train.GradientDescentOptimizer(step_size).minimize(error)"
      ],
      "execution_count": null,
      "outputs": []
    },
    {
      "cell_type": "code",
      "metadata": {
        "id": "C3XZLkf5LOmD"
      },
      "source": [
        "model = tf.global_variables_initializer() "
      ],
      "execution_count": null,
      "outputs": []
    },
    {
      "cell_type": "code",
      "metadata": {
        "colab": {
          "base_uri": "https://localhost:8080/"
        },
        "id": "9KArBP-LLRzI",
        "outputId": "7a348dcb-f90d-44c2-f05f-167659e932b3"
      },
      "source": [
        "with tf.Session() as session:\n",
        "  session.run(model)\n",
        "  data_to_use = {article_length: data['article_length'], shares : data['shares']}\n",
        "  \n",
        "  for i in range(100):\n",
        "    session.run(optimizer, feed_dict = data_to_use)\n",
        "    if(i % 100 ==0):\n",
        "      print(session.run(w))\n",
        "\n",
        "  \n",
        "\n",
        "  w_value = session.run(w)\n",
        "  print(\"Predicted model: {a:.3f}x + {b:.3f}\".format(a = w_value[1], b = w_value[0]))"
      ],
      "execution_count": null,
      "outputs": [
        {
          "output_type": "stream",
          "text": [
            "[0.99998343 1.0006498 ]\n",
            "Predicted model: 1.001x + 0.998\n"
          ],
          "name": "stdout"
        }
      ]
    },
    {
      "cell_type": "code",
      "metadata": {
        "colab": {
          "base_uri": "https://localhost:8080/",
          "height": 297
        },
        "id": "X8GxHQ1eQmhF",
        "outputId": "bf592377-152c-4beb-cc16-d63140e9072c"
      },
      "source": [
        "fig  = plt.figure()\n",
        "plt.scatter(data['article_length'], data['shares'], color = 'r', s = 5.0)\n",
        "plt.plot(data['article_length'], data['article_length']*w_value[1] + w_value[0])\n",
        "plt.xlabel('Article(words')"
      ],
      "execution_count": null,
      "outputs": [
        {
          "output_type": "execute_result",
          "data": {
            "text/plain": [
              "Text(0.5, 0, 'Article(words')"
            ]
          },
          "metadata": {
            "tags": []
          },
          "execution_count": 97
        },
        {
          "output_type": "display_data",
          "data": {
            "image/png": "[encoded data removed]",
            "text/plain": [
              "<Figure size 432x288 with 1 Axes>"
            ]
          },
          "metadata": {
            "tags": [],
            "needs_background": "light"
          }
        }
      ]
    },
    {
      "cell_type": "code",
      "metadata": {
        "id": "OsyeQqfZRUgX"
      },
      "source": [
        ""
      ],
      "execution_count": null,
      "outputs": []
    }
  ]
}