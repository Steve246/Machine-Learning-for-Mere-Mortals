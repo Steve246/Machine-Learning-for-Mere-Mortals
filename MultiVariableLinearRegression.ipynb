{
  "nbformat": 4,
  "nbformat_minor": 0,
  "metadata": {
    "colab": {
      "name": "Latihan.ipynb",
      "provenance": [],
      "collapsed_sections": [],
      "authorship_tag": "ABX9TyNljVKxSXdfT/sx6yyRwVml",
      "include_colab_link": true
    },
    "kernelspec": {
      "name": "python3",
      "display_name": "Python 3"
    },
    "language_info": {
      "name": "python"
    }
  },
  "cells": [
    {
      "cell_type": "markdown",
      "metadata": {
        "id": "view-in-github",
        "colab_type": "text"
      },
      "source": [
        "<a href=\"https://colab.research.google.com/github/Steve246/Machine-Learning-for-Mere-Mortals/blob/main/MultiVariableLinearRegression.ipynb\" target=\"_parent\"><img src=\"https://colab.research.google.com/assets/colab-badge.svg\" alt=\"Open In Colab\"/></a>"
      ]
    },
    {
      "cell_type": "code",
      "metadata": {
        "id": "SKB13wha9UrN"
      },
      "source": [
        "import numpy as np #import numpy"
      ],
      "execution_count": null,
      "outputs": []
    },
    {
      "cell_type": "code",
      "metadata": {
        "id": "RwKWxMdbG6vS"
      },
      "source": [
        "import tensorflow.compat.v1 as tf\n",
        "tf.disable_v2_behavior() #ubah tensorflow 2.0 jad 1.0 version"
      ],
      "execution_count": null,
      "outputs": []
    },
    {
      "cell_type": "code",
      "metadata": {
        "id": "2GP4P_zWD-ob"
      },
      "source": [
        "COLUMNS = [\"url\", \"title_length\",\"article_length\", \"keywords\", \"shares\" ] #feature that we want to find"
      ],
      "execution_count": null,
      "outputs": []
    },
    {
      "cell_type": "code",
      "metadata": {
        "id": "RqYCW8RZEn3B"
      },
      "source": [
        "data = np.genfromtxt(\"/content/OnlineNewsPopularityNonLinear (copy).csv\", delimiter = \",\", names = COLUMNS) #extract dataset based on feature that we want"
      ],
      "execution_count": null,
      "outputs": []
    },
    {
      "cell_type": "code",
      "metadata": {
        "id": "aqeRuNT1FBF2"
      },
      "source": [
        "article_data = np.zeros([3,100]) #3 row, 100 column"
      ],
      "execution_count": null,
      "outputs": []
    },
    {
      "cell_type": "code",
      "metadata": {
        "colab": {
          "base_uri": "https://localhost:8080/"
        },
        "id": "R_L7JaO8Fgsc",
        "outputId": "e10e4c3f-620f-473b-ff7d-5fbcaf539860"
      },
      "source": [
        "print(article_data)"
      ],
      "execution_count": null,
      "outputs": [
        {
          "output_type": "stream",
          "text": [
            "[[0. 0. 0. 0. 0. 0. 0. 0. 0. 0. 0. 0. 0. 0. 0. 0. 0. 0. 0. 0. 0. 0. 0. 0.\n",
            "  0. 0. 0. 0. 0. 0. 0. 0. 0. 0. 0. 0. 0. 0. 0. 0. 0. 0. 0. 0. 0. 0. 0. 0.\n",
            "  0. 0. 0. 0. 0. 0. 0. 0. 0. 0. 0. 0. 0. 0. 0. 0. 0. 0. 0. 0. 0. 0. 0. 0.\n",
            "  0. 0. 0. 0. 0. 0. 0. 0. 0. 0. 0. 0. 0. 0. 0. 0. 0. 0. 0. 0. 0. 0. 0. 0.\n",
            "  0. 0. 0. 0.]\n",
            " [0. 0. 0. 0. 0. 0. 0. 0. 0. 0. 0. 0. 0. 0. 0. 0. 0. 0. 0. 0. 0. 0. 0. 0.\n",
            "  0. 0. 0. 0. 0. 0. 0. 0. 0. 0. 0. 0. 0. 0. 0. 0. 0. 0. 0. 0. 0. 0. 0. 0.\n",
            "  0. 0. 0. 0. 0. 0. 0. 0. 0. 0. 0. 0. 0. 0. 0. 0. 0. 0. 0. 0. 0. 0. 0. 0.\n",
            "  0. 0. 0. 0. 0. 0. 0. 0. 0. 0. 0. 0. 0. 0. 0. 0. 0. 0. 0. 0. 0. 0. 0. 0.\n",
            "  0. 0. 0. 0.]\n",
            " [0. 0. 0. 0. 0. 0. 0. 0. 0. 0. 0. 0. 0. 0. 0. 0. 0. 0. 0. 0. 0. 0. 0. 0.\n",
            "  0. 0. 0. 0. 0. 0. 0. 0. 0. 0. 0. 0. 0. 0. 0. 0. 0. 0. 0. 0. 0. 0. 0. 0.\n",
            "  0. 0. 0. 0. 0. 0. 0. 0. 0. 0. 0. 0. 0. 0. 0. 0. 0. 0. 0. 0. 0. 0. 0. 0.\n",
            "  0. 0. 0. 0. 0. 0. 0. 0. 0. 0. 0. 0. 0. 0. 0. 0. 0. 0. 0. 0. 0. 0. 0. 0.\n",
            "  0. 0. 0. 0.]]\n"
          ],
          "name": "stdout"
        }
      ]
    },
    {
      "cell_type": "code",
      "metadata": {
        "id": "yqyDHjJ4Fif9"
      },
      "source": [
        "article_data[0] = data[\"title_length\"]"
      ],
      "execution_count": null,
      "outputs": []
    },
    {
      "cell_type": "code",
      "metadata": {
        "id": "ZUXa6ffTGHPt"
      },
      "source": [
        "article_data[1] = data[\"article_length\"] # ini bisa dikaliin sama konstanta"
      ],
      "execution_count": null,
      "outputs": []
    },
    {
      "cell_type": "code",
      "metadata": {
        "id": "0hjlQjkzGKFx"
      },
      "source": [
        "article_data[2] = data[\"keywords\"] #masukin data kita, contoh ini assign data keywords"
      ],
      "execution_count": null,
      "outputs": []
    },
    {
      "cell_type": "code",
      "metadata": {
        "colab": {
          "base_uri": "https://localhost:8080/"
        },
        "id": "S4XNMi_gGPMI",
        "outputId": "78933621-aba8-4a34-dace-fcc5b8f95505"
      },
      "source": [
        "print(article_data)"
      ],
      "execution_count": null,
      "outputs": [
        {
          "output_type": "stream",
          "text": [
            "[[  2.   2.   2.   2.   2.   2.   2.   2.   2.   2.   2.   2.   2.   2.\n",
            "    2.   2.   2.   2.   2.   2.   2.   2.   2.   2.   2.   2.   2.   2.\n",
            "    2.   2.   3.   3.   3.   3.   3.   3.   3.   3.   3.   3.   3.   3.\n",
            "    3.   3.   3.   3.   3.   3.   3.   3.   3.   3.   3.   3.   3.   3.\n",
            "    3.   3.   3.   3.   3.   3.   3.   3.   3.   3.   3.   3.   4.   4.\n",
            "    5.   5.   5.   5.   6.   6.   6.   7.   7.   7.   7.   8.   8.   9.\n",
            "    9.   9.   9.   9.   9.  10.  10.  10.  10.  10.  10.  10.  10.  10.\n",
            "   10.  10.]\n",
            " [175. 201. 194. 219. 237. 242. 233. 229. 234. 231. 216. 223. 225. 237.\n",
            "  260. 275. 278. 300. 307. 300. 302. 325. 356. 348. 364. 367. 396. 413.\n",
            "  406. 420. 447. 438. 434. 453. 465. 499. 526. 523. 544. 544. 544. 541.\n",
            "  537. 547. 563. 558. 579. 573. 591. 599. 599. 587. 619. 612. 633. 621.\n",
            "  633. 638. 654. 651. 646. 634. 627. 641. 640. 623. 631. 634. 664. 682.\n",
            "  706. 717. 726. 750. 747. 761. 765. 765. 754. 769. 789. 798. 834. 832.\n",
            "  854. 860. 857. 877. 892. 881. 889. 890. 899. 902. 903. 905. 898. 902.\n",
            "  937. 964.]\n",
            " [  5.   4.   6.   7.   7.   9.  10.   9.   7.   5.   8.   7.   8.   6.\n",
            "    7.   6.   5.   6.   6.   8.  10.   7.   7.   6.   4.  10.   9.   9.\n",
            "   10.   6.   7.   7.   9.   6.   8.  10.  10.   9.   6.   6.   9.   8.\n",
            "    7.  10.   8.   5.   8.  10.   9.   8.  10.   8.   9.   6.   8.  10.\n",
            "    7.   9.  10.   6.  10.   9.   7.   9.   9.   8.   9.   5.   9.   6.\n",
            "    7.  10.   6.  10.   8.   8.  10.   7.   6.   6.   6.  10.   4.  10.\n",
            "   10.   8.   7.  10.   5.   7.   7.   6.   7.   6.   8.   5.   9.   8.\n",
            "    8.   9.]]\n"
          ],
          "name": "stdout"
        }
      ]
    },
    {
      "cell_type": "code",
      "metadata": {
        "id": "vJnYawGVGQ0f"
      },
      "source": [
        "shares_data = np.zeros([1,100])\n",
        "shares_data[0] = data[\"shares\"]"
      ],
      "execution_count": null,
      "outputs": []
    },
    {
      "cell_type": "code",
      "metadata": {
        "id": "M2JPh4tNG1NT"
      },
      "source": [
        "initial_m = np.zeros([1,3])\n",
        "initial_b = np.zeros([1])"
      ],
      "execution_count": null,
      "outputs": []
    },
    {
      "cell_type": "code",
      "metadata": {
        "id": "S-RkTSP7G8yC"
      },
      "source": [
        "w = tf.Variable(initial_m, dtype = \"float32\", name = \"w\")\n",
        "b = tf.Variable(initial_b, dtype = \"float32\", name = \"b\") #set dataype kita"
      ],
      "execution_count": null,
      "outputs": []
    },
    {
      "cell_type": "code",
      "metadata": {
        "id": "bZyU5oSlHaAl"
      },
      "source": [
        "x = tf.placeholder(\"float32\", shape = [3,100]) #ini shape dataset kita, yaitu 3 row, 100 columns\n",
        "actual_target = tf.placeholder(\"float32\", shape = [1,100]) #target kita, hasilin jawaban 1 row, 100 column"
      ],
      "execution_count": null,
      "outputs": []
    },
    {
      "cell_type": "code",
      "metadata": {
        "id": "YA6Itn3BJBot"
      },
      "source": [
        "predicted_shares = tf.add(tf.matmul(w,x),b) #matmul is matrix multiplication"
      ],
      "execution_count": null,
      "outputs": []
    },
    {
      "cell_type": "code",
      "metadata": {
        "id": "j2gqT5FbIbx1"
      },
      "source": [
        "error = tf.multiply(tf.reduce_mean(tf.squared_difference(predicted_shares, actual_target)), .001)"
      ],
      "execution_count": null,
      "outputs": []
    },
    {
      "cell_type": "code",
      "metadata": {
        "id": "y4vXJ2jUJb0F"
      },
      "source": [
        "step_size = .001\n",
        "optimizer = tf.train.GradientDescentOptimizer(step_size).minimize(error)"
      ],
      "execution_count": null,
      "outputs": []
    },
    {
      "cell_type": "code",
      "metadata": {
        "id": "Xkl4NQOTJlQm"
      },
      "source": [
        "model = tf.global_variables_initializer()"
      ],
      "execution_count": null,
      "outputs": []
    },
    {
      "cell_type": "code",
      "metadata": {
        "colab": {
          "base_uri": "https://localhost:8080/",
          "height": 1000
        },
        "id": "XYKo1zGsJty7",
        "outputId": "dea33b03-91da-4755-d01a-53dbe04007b7"
      },
      "source": [
        "with tf.Session() as session:\n",
        "  session.run(model)\n",
        "\n",
        "  for i in range(1000000):\n",
        "     _, loss, w_value = session.run([optimizer, error, w], \n",
        "    feed_dict={x: article_data, actual_target: shares_data})\n",
        "\n",
        "     if (i % 1000  == 0):\n",
        "           print (loss, w_value)\n",
        "\n",
        "   \n",
        "   \n",
        "\n",
        "    \n"
      ],
      "execution_count": null,
      "outputs": [
        {
          "output_type": "stream",
          "text": [
            "780512600.0 [[   8.846136 1043.759      11.193707]]\n",
            "46704484.0 [[  523.0705  1412.3234 -1114.2598]]\n",
            "45208520.0 [[ 1026.6323  1421.5856 -2219.8618]]\n",
            "43772510.0 [[ 1522.5475  1430.6262 -3301.8655]]\n",
            "42394000.0 [[ 2010.9651  1439.4502 -4360.761 ]]\n",
            "41070652.0 [[ 2492.0303  1448.0618 -5397.024 ]]\n",
            "39800236.0 [[ 2965.883   1456.4655 -6411.123 ]]\n",
            "38580584.0 [[ 3432.664   1464.6659 -7403.517 ]]\n",
            "37409668.0 [[ 3892.51    1472.6672 -8374.654 ]]\n",
            "36285508.0 [[ 4345.5483  1480.4736 -9324.9795]]\n",
            "35206172.0 [[  4791.9233   1488.0891 -10254.915 ]]\n",
            "34169870.0 [[  5231.749   1495.518 -11164.894]]\n",
            "33174838.0 [[  5665.1597   1502.7638 -12055.318 ]]\n",
            "32219420.0 [[  6092.2773   1509.8308 -12926.604 ]]\n",
            "31302018.0 [[  6513.2153   1516.7227 -13779.132 ]]\n",
            "30421072.0 [[  6928.102    1523.4429 -14613.297 ]]\n",
            "29575106.0 [[  7337.0454   1529.9954 -15429.488 ]]\n",
            "28762694.0 [[  7740.1577   1536.3835 -16228.067 ]]\n",
            "27982486.0 [[  8137.5537   1542.6108 -17009.408 ]]\n",
            "27233186.0 [[  8529.3545   1548.6807 -17773.85  ]]\n",
            "26513524.0 [[  8915.635    1554.5966 -18521.768 ]]\n",
            "25822308.0 [[  9296.53     1560.3618 -19253.506 ]]\n",
            "25158374.0 [[  9672.118    1565.9794 -19969.377 ]]\n",
            "24520644.0 [[ 10042.529    1571.4521 -20669.697 ]]\n",
            "23908048.0 [[ 10407.846    1576.7836 -21354.807 ]]\n",
            "23319526.0 [[ 10768.144   1581.977 -22025.064]]\n",
            "22754184.0 [[ 11123.543    1587.0345 -22680.693 ]]\n",
            "22211012.0 [[ 11474.125   1591.96  -23322.07 ]]\n",
            "21689146.0 [[ 11819.97     1596.7557 -23949.465 ]]\n",
            "21187716.0 [[ 12161.189    1601.4242 -24563.15  ]]\n",
            "20705888.0 [[ 12497.887    1605.9683 -25163.424 ]]\n",
            "20242882.0 [[ 12830.078    1610.3912 -25750.584 ]]\n",
            "19797932.0 [[ 13157.937    1614.6947 -26324.867 ]]\n",
            "19370304.0 [[ 13481.447    1618.8823 -26886.586 ]]\n",
            "18959332.0 [[ 13800.764    1622.9553 -27435.928 ]]\n",
            "18564298.0 [[ 14115.952   1626.917 -27973.215]]\n"
          ],
          "name": "stdout"
        },
        {
          "output_type": "error",
          "ename": "KeyboardInterrupt",
          "evalue": "ignored",
          "traceback": [
            "\u001b[0;31m---------------------------------------------------------------------------\u001b[0m",
            "\u001b[0;31mKeyboardInterrupt\u001b[0m                         Traceback (most recent call last)",
            "\u001b[0;32m<ipython-input-33-75e20b30fd05>\u001b[0m in \u001b[0;36m<module>\u001b[0;34m()\u001b[0m\n\u001b[1;32m      4\u001b[0m   \u001b[0;32mfor\u001b[0m \u001b[0mi\u001b[0m \u001b[0;32min\u001b[0m \u001b[0mrange\u001b[0m\u001b[0;34m(\u001b[0m\u001b[0;36m1000000\u001b[0m\u001b[0;34m)\u001b[0m\u001b[0;34m:\u001b[0m\u001b[0;34m\u001b[0m\u001b[0;34m\u001b[0m\u001b[0m\n\u001b[1;32m      5\u001b[0m      _, loss, w_value = session.run([optimizer, error, w], \n\u001b[0;32m----> 6\u001b[0;31m     feed_dict={x: article_data, actual_target: shares_data})\n\u001b[0m\u001b[1;32m      7\u001b[0m \u001b[0;34m\u001b[0m\u001b[0m\n\u001b[1;32m      8\u001b[0m      \u001b[0;32mif\u001b[0m \u001b[0;34m(\u001b[0m\u001b[0mi\u001b[0m \u001b[0;34m%\u001b[0m \u001b[0;36m1000\u001b[0m  \u001b[0;34m==\u001b[0m \u001b[0;36m0\u001b[0m\u001b[0;34m)\u001b[0m\u001b[0;34m:\u001b[0m\u001b[0;34m\u001b[0m\u001b[0;34m\u001b[0m\u001b[0m\n",
            "\u001b[0;32m/usr/local/lib/python3.7/dist-packages/tensorflow/python/client/session.py\u001b[0m in \u001b[0;36mrun\u001b[0;34m(self, fetches, feed_dict, options, run_metadata)\u001b[0m\n\u001b[1;32m    966\u001b[0m     \u001b[0;32mtry\u001b[0m\u001b[0;34m:\u001b[0m\u001b[0;34m\u001b[0m\u001b[0;34m\u001b[0m\u001b[0m\n\u001b[1;32m    967\u001b[0m       result = self._run(None, fetches, feed_dict, options_ptr,\n\u001b[0;32m--> 968\u001b[0;31m                          run_metadata_ptr)\n\u001b[0m\u001b[1;32m    969\u001b[0m       \u001b[0;32mif\u001b[0m \u001b[0mrun_metadata\u001b[0m\u001b[0;34m:\u001b[0m\u001b[0;34m\u001b[0m\u001b[0;34m\u001b[0m\u001b[0m\n\u001b[1;32m    970\u001b[0m         \u001b[0mproto_data\u001b[0m \u001b[0;34m=\u001b[0m \u001b[0mtf_session\u001b[0m\u001b[0;34m.\u001b[0m\u001b[0mTF_GetBuffer\u001b[0m\u001b[0;34m(\u001b[0m\u001b[0mrun_metadata_ptr\u001b[0m\u001b[0;34m)\u001b[0m\u001b[0;34m\u001b[0m\u001b[0;34m\u001b[0m\u001b[0m\n",
            "\u001b[0;32m/usr/local/lib/python3.7/dist-packages/tensorflow/python/client/session.py\u001b[0m in \u001b[0;36m_run\u001b[0;34m(self, handle, fetches, feed_dict, options, run_metadata)\u001b[0m\n\u001b[1;32m   1189\u001b[0m     \u001b[0;32mif\u001b[0m \u001b[0mfinal_fetches\u001b[0m \u001b[0;32mor\u001b[0m \u001b[0mfinal_targets\u001b[0m \u001b[0;32mor\u001b[0m \u001b[0;34m(\u001b[0m\u001b[0mhandle\u001b[0m \u001b[0;32mand\u001b[0m \u001b[0mfeed_dict_tensor\u001b[0m\u001b[0;34m)\u001b[0m\u001b[0;34m:\u001b[0m\u001b[0;34m\u001b[0m\u001b[0;34m\u001b[0m\u001b[0m\n\u001b[1;32m   1190\u001b[0m       results = self._do_run(handle, final_targets, final_fetches,\n\u001b[0;32m-> 1191\u001b[0;31m                              feed_dict_tensor, options, run_metadata)\n\u001b[0m\u001b[1;32m   1192\u001b[0m     \u001b[0;32melse\u001b[0m\u001b[0;34m:\u001b[0m\u001b[0;34m\u001b[0m\u001b[0;34m\u001b[0m\u001b[0m\n\u001b[1;32m   1193\u001b[0m       \u001b[0mresults\u001b[0m \u001b[0;34m=\u001b[0m \u001b[0;34m[\u001b[0m\u001b[0;34m]\u001b[0m\u001b[0;34m\u001b[0m\u001b[0;34m\u001b[0m\u001b[0m\n",
            "\u001b[0;32m/usr/local/lib/python3.7/dist-packages/tensorflow/python/client/session.py\u001b[0m in \u001b[0;36m_do_run\u001b[0;34m(self, handle, target_list, fetch_list, feed_dict, options, run_metadata)\u001b[0m\n\u001b[1;32m   1367\u001b[0m     \u001b[0;32mif\u001b[0m \u001b[0mhandle\u001b[0m \u001b[0;32mis\u001b[0m \u001b[0;32mNone\u001b[0m\u001b[0;34m:\u001b[0m\u001b[0;34m\u001b[0m\u001b[0;34m\u001b[0m\u001b[0m\n\u001b[1;32m   1368\u001b[0m       return self._do_call(_run_fn, feeds, fetches, targets, options,\n\u001b[0;32m-> 1369\u001b[0;31m                            run_metadata)\n\u001b[0m\u001b[1;32m   1370\u001b[0m     \u001b[0;32melse\u001b[0m\u001b[0;34m:\u001b[0m\u001b[0;34m\u001b[0m\u001b[0;34m\u001b[0m\u001b[0m\n\u001b[1;32m   1371\u001b[0m       \u001b[0;32mreturn\u001b[0m \u001b[0mself\u001b[0m\u001b[0;34m.\u001b[0m\u001b[0m_do_call\u001b[0m\u001b[0;34m(\u001b[0m\u001b[0m_prun_fn\u001b[0m\u001b[0;34m,\u001b[0m \u001b[0mhandle\u001b[0m\u001b[0;34m,\u001b[0m \u001b[0mfeeds\u001b[0m\u001b[0;34m,\u001b[0m \u001b[0mfetches\u001b[0m\u001b[0;34m)\u001b[0m\u001b[0;34m\u001b[0m\u001b[0;34m\u001b[0m\u001b[0m\n",
            "\u001b[0;32m/usr/local/lib/python3.7/dist-packages/tensorflow/python/client/session.py\u001b[0m in \u001b[0;36m_do_call\u001b[0;34m(self, fn, *args)\u001b[0m\n\u001b[1;32m   1373\u001b[0m   \u001b[0;32mdef\u001b[0m \u001b[0m_do_call\u001b[0m\u001b[0;34m(\u001b[0m\u001b[0mself\u001b[0m\u001b[0;34m,\u001b[0m \u001b[0mfn\u001b[0m\u001b[0;34m,\u001b[0m \u001b[0;34m*\u001b[0m\u001b[0margs\u001b[0m\u001b[0;34m)\u001b[0m\u001b[0;34m:\u001b[0m\u001b[0;34m\u001b[0m\u001b[0;34m\u001b[0m\u001b[0m\n\u001b[1;32m   1374\u001b[0m     \u001b[0;32mtry\u001b[0m\u001b[0;34m:\u001b[0m\u001b[0;34m\u001b[0m\u001b[0;34m\u001b[0m\u001b[0m\n\u001b[0;32m-> 1375\u001b[0;31m       \u001b[0;32mreturn\u001b[0m \u001b[0mfn\u001b[0m\u001b[0;34m(\u001b[0m\u001b[0;34m*\u001b[0m\u001b[0margs\u001b[0m\u001b[0;34m)\u001b[0m\u001b[0;34m\u001b[0m\u001b[0;34m\u001b[0m\u001b[0m\n\u001b[0m\u001b[1;32m   1376\u001b[0m     \u001b[0;32mexcept\u001b[0m \u001b[0merrors\u001b[0m\u001b[0;34m.\u001b[0m\u001b[0mOpError\u001b[0m \u001b[0;32mas\u001b[0m \u001b[0me\u001b[0m\u001b[0;34m:\u001b[0m\u001b[0;34m\u001b[0m\u001b[0;34m\u001b[0m\u001b[0m\n\u001b[1;32m   1377\u001b[0m       \u001b[0mmessage\u001b[0m \u001b[0;34m=\u001b[0m \u001b[0mcompat\u001b[0m\u001b[0;34m.\u001b[0m\u001b[0mas_text\u001b[0m\u001b[0;34m(\u001b[0m\u001b[0me\u001b[0m\u001b[0;34m.\u001b[0m\u001b[0mmessage\u001b[0m\u001b[0;34m)\u001b[0m\u001b[0;34m\u001b[0m\u001b[0;34m\u001b[0m\u001b[0m\n",
            "\u001b[0;32m/usr/local/lib/python3.7/dist-packages/tensorflow/python/client/session.py\u001b[0m in \u001b[0;36m_run_fn\u001b[0;34m(feed_dict, fetch_list, target_list, options, run_metadata)\u001b[0m\n\u001b[1;32m   1358\u001b[0m       \u001b[0mself\u001b[0m\u001b[0;34m.\u001b[0m\u001b[0m_extend_graph\u001b[0m\u001b[0;34m(\u001b[0m\u001b[0;34m)\u001b[0m\u001b[0;34m\u001b[0m\u001b[0;34m\u001b[0m\u001b[0m\n\u001b[1;32m   1359\u001b[0m       return self._call_tf_sessionrun(options, feed_dict, fetch_list,\n\u001b[0;32m-> 1360\u001b[0;31m                                       target_list, run_metadata)\n\u001b[0m\u001b[1;32m   1361\u001b[0m \u001b[0;34m\u001b[0m\u001b[0m\n\u001b[1;32m   1362\u001b[0m     \u001b[0;32mdef\u001b[0m \u001b[0m_prun_fn\u001b[0m\u001b[0;34m(\u001b[0m\u001b[0mhandle\u001b[0m\u001b[0;34m,\u001b[0m \u001b[0mfeed_dict\u001b[0m\u001b[0;34m,\u001b[0m \u001b[0mfetch_list\u001b[0m\u001b[0;34m)\u001b[0m\u001b[0;34m:\u001b[0m\u001b[0;34m\u001b[0m\u001b[0;34m\u001b[0m\u001b[0m\n",
            "\u001b[0;32m/usr/local/lib/python3.7/dist-packages/tensorflow/python/client/session.py\u001b[0m in \u001b[0;36m_call_tf_sessionrun\u001b[0;34m(self, options, feed_dict, fetch_list, target_list, run_metadata)\u001b[0m\n\u001b[1;32m   1451\u001b[0m     return tf_session.TF_SessionRun_wrapper(self._session, options, feed_dict,\n\u001b[1;32m   1452\u001b[0m                                             \u001b[0mfetch_list\u001b[0m\u001b[0;34m,\u001b[0m \u001b[0mtarget_list\u001b[0m\u001b[0;34m,\u001b[0m\u001b[0;34m\u001b[0m\u001b[0;34m\u001b[0m\u001b[0m\n\u001b[0;32m-> 1453\u001b[0;31m                                             run_metadata)\n\u001b[0m\u001b[1;32m   1454\u001b[0m \u001b[0;34m\u001b[0m\u001b[0m\n\u001b[1;32m   1455\u001b[0m   \u001b[0;32mdef\u001b[0m \u001b[0m_call_tf_sessionprun\u001b[0m\u001b[0;34m(\u001b[0m\u001b[0mself\u001b[0m\u001b[0;34m,\u001b[0m \u001b[0mhandle\u001b[0m\u001b[0;34m,\u001b[0m \u001b[0mfeed_dict\u001b[0m\u001b[0;34m,\u001b[0m \u001b[0mfetch_list\u001b[0m\u001b[0;34m)\u001b[0m\u001b[0;34m:\u001b[0m\u001b[0;34m\u001b[0m\u001b[0;34m\u001b[0m\u001b[0m\n",
            "\u001b[0;31mKeyboardInterrupt\u001b[0m: "
          ]
        }
      ]
    },
    {
      "cell_type": "markdown",
      "metadata": {
        "id": "5JaW_nlXGF3F"
      },
      "source": [
        ""
      ]
    }
  ]
}